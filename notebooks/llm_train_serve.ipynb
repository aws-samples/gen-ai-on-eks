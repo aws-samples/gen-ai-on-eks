{
 "cells": [
  {
   "cell_type": "markdown",
   "id": "8313fff9",
   "metadata": {},
   "source": [
    "# Fine-tuning and Serving a Large Language Model (LLM) with Ray on Amazon EKS"
   ]
  },
  {
   "cell_type": "markdown",
   "id": "21278f1f",
   "metadata": {},
   "source": [
    "Language models have revolutionized the field of natural language processing, enabling applications such as chatbots, sentiment analysis, and content generation. Fine-tuning these models for specific tasks and deploying them at scale is a crucial aspect of leveraging their power effectively.\n",
    "\n",
    "In this tutorial, we will explore the process of fine-tuning a pre-trained LLM, optimizing it for your specific needs, and then deploying it on Amazon EKS. Ray, a distributed computing framework, will be our ally in managing the complexity of training and serving such models efficiently.\n",
    "\n",
    "Whether you're a data scientist looking to enhance your NLP projects or an engineer tasked with deploying AI-powered applications in production, this notebook will guide you through the entire journey."
   ]
  },
  {
   "cell_type": "markdown",
   "id": "a1ed780b",
   "metadata": {},
   "source": [
    "## Requirements"
   ]
  },
  {
   "cell_type": "markdown",
   "id": "6ef67608",
   "metadata": {},
   "source": [
    "### Installing core components"
   ]
  },
  {
   "cell_type": "code",
   "execution_count": null,
   "id": "ccf78973",
   "metadata": {
    "scrolled": true
   },
   "outputs": [],
   "source": [
    "# Restart kernel after install\n",
    "! pip install --upgrade pip\n",
    "! pip install -U \"ray[air]\" \"boto3==1.28.47\" \"ray==2.6.3\" \"protobuf==3.19.6\" \n",
    "! pip install \"datasets==2.14.5\" \"evaluate==0.4.0\" \"einops==0.6.1\" \"accelerate==0.20.3\" \"transformers>=4.33.1\" \"torch==2.0.1\" \"deepspeed==0.9.3\" \"peft==0.4.0\" \"bitsandbytes==0.41.1\" \"loralib==0.1.2\" \"xformers==0.0.21\" \n",
    "! pip install pandas --upgrade "
   ]
  },
  {
   "cell_type": "markdown",
   "id": "af19afb8",
   "metadata": {},
   "source": [
    "### Global variables"
   ]
  },
  {
   "cell_type": "markdown",
   "id": "6aeba95a",
   "metadata": {},
   "source": [
    "After installing the requirements, we will add some global variables"
   ]
  },
  {
   "cell_type": "code",
   "execution_count": 29,
   "id": "fd8ff9d9",
   "metadata": {
    "scrolled": false
   },
   "outputs": [],
   "source": [
    "# Fine-tuning variables\n",
    "model_name = \"tiiuae/falcon-7b\" # The pre-trained model you are going to utilize\n",
    "dataset_name = \"gbharti/finance-alpaca\" # The dataset we are going to utilize for fine-tuning\n",
    "bucket = \"fm-ops-datasets\" # Where you are going to store your dataset\n",
    "use_gpu = True # Ray cluster requirement\n",
    "num_workers = 11 # Ray cluster requirement\n",
    "cpus_per_worker = 8 # Ray cluster requirement\n",
    "storage_path=f\"s3://{bucket}/checkpoints/\" # Since this example runs with multiple nodes, we need to persist checkpoints and other outputs to some external storage for access after training has completed\n",
    "ray_train_address = \"ray-cluster-train-kuberay-head-svc.ray-cluster-train.svc.cluster.local\"\n",
    "ray_serve_address = \"http://ray-svc-non-finetuned-head-svc.ray-svc-non-finetuned.svc.cluster.local:8265\"\n",
    "train_dependencies = [\n",
    "    \"awscli\",\n",
    "    \"datasets==2.14.5\",\n",
    "    \"evaluate==0.4.0\",\n",
    "    \"einops==0.6.1\",\n",
    "    \"accelerate==0.20.3\",\n",
    "    \"transformers>=4.33.1\",\n",
    "    \"torch==2.0.1\",\n",
    "    \"deepspeed==0.9.3\",\n",
    "    \"peft==0.4.0\",\n",
    "    \"bitsandbytes==0.41.1\",\n",
    "    \"loralib==0.1.2\",\n",
    "    \"xformers==0.0.21\"\n",
    "]"
   ]
  },
  {
   "cell_type": "markdown",
   "id": "a23aa262",
   "metadata": {},
   "source": [
    "You can change the `model_name` variable for any pre-trained models availabe at [Hugging Face](https://huggingface.co/models).\n",
    "\n",
    "Some examples are:\n",
    "- [Llama2](https://huggingface.co/docs/transformers/main/en/model_doc/llama2)\n",
    "- [Falcon](https://huggingface.co/docs/transformers/main/en/model_doc/falcon)\n",
    "- [GPT-J](https://huggingface.co/docs/transformers/main/en/model_doc/gptj)\n",
    "- [Falcon Lite](https://huggingface.co/amazon/FalconLite)\n",
    "- [Light GPT](https://huggingface.co/amazon/LightGPT)\n",
    "\n",
    "For `dataset_name` you can change for your dataset. The dataset structure depends on the task and the model you are trying to fine-tune. You can check some datasets at [Hugging Face](https://huggingface.co/datasets).\n",
    "\n",
    "As example:\n",
    "- [Finance Alpaca](https://huggingface.co/datasets/gbharti/finance-alpaca)\n",
    "- [Code Instructions](https://huggingface.co/datasets/iamtarun/code_instructions_120k_alpaca)\n",
    "- [Falcon RefinedWeb](https://huggingface.co/datasets/tiiuae/falcon-refinedweb)\n",
    "- [Mental Health](https://huggingface.co/datasets/Amod/mental_health_counseling_conversations)"
   ]
  },
  {
   "cell_type": "markdown",
   "id": "6dc4379c",
   "metadata": {},
   "source": [
    "### Connect to Ray cluster deployed in Amazon EKS"
   ]
  },
  {
   "cell_type": "code",
   "execution_count": 30,
   "id": "25fed522",
   "metadata": {
    "scrolled": false
   },
   "outputs": [],
   "source": [
    "import ray"
   ]
  },
  {
   "cell_type": "code",
   "execution_count": 31,
   "id": "b76146a9",
   "metadata": {
    "scrolled": false
   },
   "outputs": [
    {
     "data": {
      "text/html": [
       "<div class=\"lm-Widget p-Widget lm-Panel p-Panel jp-Cell-outputWrapper\">\n",
       "    <div style=\"margin-left: 50px;display: flex;flex-direction: row;align-items: center\">\n",
       "        <div class=\"jp-RenderedHTMLCommon\" style=\"display: flex; flex-direction: row;\">\n",
       "  <svg viewBox=\"0 0 567 224\" fill=\"none\" xmlns=\"http://www.w3.org/2000/svg\" style=\"height: 3em;\">\n",
       "    <g clip-path=\"url(#clip0_4338_178347)\">\n",
       "        <path d=\"M341.29 165.561H355.29L330.13 129.051C345.63 123.991 354.21 112.051 354.21 94.2307C354.21 71.3707 338.72 58.1807 311.88 58.1807H271V165.561H283.27V131.661H311.8C314.25 131.661 316.71 131.501 319.01 131.351L341.25 165.561H341.29ZM283.29 119.851V70.0007H311.82C331.3 70.0007 342.34 78.2907 342.34 94.5507C342.34 111.271 331.34 119.861 311.82 119.861L283.29 119.851ZM451.4 138.411L463.4 165.561H476.74L428.74 58.1807H416L367.83 165.561H380.83L392.83 138.411H451.4ZM446.19 126.601H398L422 72.1407L446.24 126.601H446.19ZM526.11 128.741L566.91 58.1807H554.35L519.99 114.181L485.17 58.1807H472.44L514.01 129.181V165.541H526.13V128.741H526.11Z\" fill=\"var(--jp-ui-font-color0)\"/>\n",
       "        <path d=\"M82.35 104.44C84.0187 97.8827 87.8248 92.0678 93.1671 87.9146C98.5094 83.7614 105.083 81.5067 111.85 81.5067C118.617 81.5067 125.191 83.7614 130.533 87.9146C135.875 92.0678 139.681 97.8827 141.35 104.44H163.75C164.476 101.562 165.622 98.8057 167.15 96.2605L127.45 56.5605C121.071 60.3522 113.526 61.6823 106.235 60.3005C98.9443 58.9187 92.4094 54.9203 87.8602 49.0574C83.3109 43.1946 81.0609 35.8714 81.5332 28.4656C82.0056 21.0599 85.1679 14.0819 90.4252 8.8446C95.6824 3.60726 102.672 0.471508 110.08 0.0272655C117.487 -0.416977 124.802 1.86091 130.647 6.4324C136.493 11.0039 140.467 17.5539 141.821 24.8501C143.175 32.1463 141.816 39.6859 138 46.0505L177.69 85.7505C182.31 82.9877 187.58 81.4995 192.962 81.4375C198.345 81.3755 203.648 82.742 208.33 85.3976C213.012 88.0532 216.907 91.9029 219.616 96.5544C222.326 101.206 223.753 106.492 223.753 111.875C223.753 117.258 222.326 122.545 219.616 127.197C216.907 131.848 213.012 135.698 208.33 138.353C203.648 141.009 198.345 142.375 192.962 142.313C187.58 142.251 182.31 140.763 177.69 138L138 177.7C141.808 184.071 143.155 191.614 141.79 198.91C140.424 206.205 136.44 212.75 130.585 217.313C124.731 221.875 117.412 224.141 110.004 223.683C102.596 223.226 95.6103 220.077 90.3621 214.828C85.1139 209.58 81.9647 202.595 81.5072 195.187C81.0497 187.779 83.3154 180.459 87.878 174.605C92.4405 168.751 98.9853 164.766 106.281 163.401C113.576 162.035 121.119 163.383 127.49 167.19L167.19 127.49C165.664 124.941 164.518 122.182 163.79 119.3H141.39C139.721 125.858 135.915 131.673 130.573 135.826C125.231 139.98 118.657 142.234 111.89 142.234C105.123 142.234 98.5494 139.98 93.2071 135.826C87.8648 131.673 84.0587 125.858 82.39 119.3H60C58.1878 126.495 53.8086 132.78 47.6863 136.971C41.5641 141.163 34.1211 142.972 26.7579 142.059C19.3947 141.146 12.6191 137.574 7.70605 132.014C2.79302 126.454 0.0813599 119.29 0.0813599 111.87C0.0813599 104.451 2.79302 97.2871 7.70605 91.7272C12.6191 86.1673 19.3947 82.5947 26.7579 81.6817C34.1211 80.7686 41.5641 82.5781 47.6863 86.7696C53.8086 90.9611 58.1878 97.2456 60 104.44H82.35ZM100.86 204.32C103.407 206.868 106.759 208.453 110.345 208.806C113.93 209.159 117.527 208.258 120.522 206.256C123.517 204.254 125.725 201.276 126.771 197.828C127.816 194.38 127.633 190.677 126.253 187.349C124.874 184.021 122.383 181.274 119.205 179.577C116.027 177.88 112.359 177.337 108.826 178.042C105.293 178.746 102.113 180.654 99.8291 183.44C97.5451 186.226 96.2979 189.718 96.3 193.32C96.2985 195.364 96.7006 197.388 97.4831 199.275C98.2656 201.163 99.4132 202.877 100.86 204.32ZM204.32 122.88C206.868 120.333 208.453 116.981 208.806 113.396C209.159 109.811 208.258 106.214 206.256 103.219C204.254 100.223 201.275 98.0151 197.827 96.97C194.38 95.9249 190.676 96.1077 187.348 97.4873C184.02 98.8669 181.274 101.358 179.577 104.536C177.879 107.714 177.337 111.382 178.041 114.915C178.746 118.448 180.653 121.627 183.439 123.911C186.226 126.195 189.717 127.443 193.32 127.44C195.364 127.443 197.388 127.042 199.275 126.259C201.163 125.476 202.878 124.328 204.32 122.88ZM122.88 19.4205C120.333 16.8729 116.981 15.2876 113.395 14.9347C109.81 14.5817 106.213 15.483 103.218 17.4849C100.223 19.4868 98.0146 22.4654 96.9696 25.9131C95.9245 29.3608 96.1073 33.0642 97.4869 36.3922C98.8665 39.7202 101.358 42.4668 104.535 44.1639C107.713 45.861 111.381 46.4036 114.914 45.6992C118.447 44.9949 121.627 43.0871 123.911 40.301C126.195 37.515 127.442 34.0231 127.44 30.4205C127.44 28.3772 127.038 26.3539 126.255 24.4664C125.473 22.5788 124.326 20.8642 122.88 19.4205ZM19.42 100.86C16.8725 103.408 15.2872 106.76 14.9342 110.345C14.5813 113.93 15.4826 117.527 17.4844 120.522C19.4863 123.518 22.4649 125.726 25.9127 126.771C29.3604 127.816 33.0638 127.633 36.3918 126.254C39.7198 124.874 42.4664 122.383 44.1635 119.205C45.8606 116.027 46.4032 112.359 45.6988 108.826C44.9944 105.293 43.0866 102.114 40.3006 99.8296C37.5145 97.5455 34.0227 96.2983 30.42 96.3005C26.2938 96.3018 22.337 97.9421 19.42 100.86ZM100.86 100.86C98.3125 103.408 96.7272 106.76 96.3742 110.345C96.0213 113.93 96.9226 117.527 98.9244 120.522C100.926 123.518 103.905 125.726 107.353 126.771C110.8 127.816 114.504 127.633 117.832 126.254C121.16 124.874 123.906 122.383 125.604 119.205C127.301 116.027 127.843 112.359 127.139 108.826C126.434 105.293 124.527 102.114 121.741 99.8296C118.955 97.5455 115.463 96.2983 111.86 96.3005C109.817 96.299 107.793 96.701 105.905 97.4835C104.018 98.2661 102.303 99.4136 100.86 100.86Z\" fill=\"#00AEEF\"/>\n",
       "    </g>\n",
       "    <defs>\n",
       "        <clipPath id=\"clip0_4338_178347\">\n",
       "            <rect width=\"566.93\" height=\"223.75\" fill=\"white\"/>\n",
       "        </clipPath>\n",
       "    </defs>\n",
       "  </svg>\n",
       "</div>\n",
       "\n",
       "        <table class=\"jp-RenderedHTMLCommon\" style=\"border-collapse: collapse;color: var(--jp-ui-font-color1);font-size: var(--jp-ui-font-size1);\">\n",
       "    <tr>\n",
       "        <td style=\"text-align: left\"><b>Python version:</b></td>\n",
       "        <td style=\"text-align: left\"><b>3.8.13</b></td>\n",
       "    </tr>\n",
       "    <tr>\n",
       "        <td style=\"text-align: left\"><b>Ray version:</b></td>\n",
       "        <td style=\"text-align: left\"><b>2.6.3</b></td>\n",
       "    </tr>\n",
       "    <tr>\n",
       "    <td style=\"text-align: left\"><b>Dashboard:</b></td>\n",
       "    <td style=\"text-align: left\"><b><a href=\"http://10.8.6.77:8265\" target=\"_blank\">http://10.8.6.77:8265</a></b></td>\n",
       "</tr>\n",
       "\n",
       "</table>\n",
       "\n",
       "    </div>\n",
       "</div>\n"
      ],
      "text/plain": [
       "ClientContext(dashboard_url='10.8.6.77:8265', python_version='3.8.13', ray_version='2.6.3', ray_commit='8a434b4ee7cd48e60fa1531315d39901fac5d79e', protocol_version='2023-06-27', _num_clients=1, _context_to_restore=<ray.util.client._ClientContext object at 0x7fdc60237070>)"
      ]
     },
     "execution_count": 31,
     "metadata": {},
     "output_type": "execute_result"
    }
   ],
   "source": [
    "# Connecting Ray client with the cluster\n",
    "ray.shutdown()\n",
    "ray.init(\n",
    "    address=f\"ray://{ray_train_address}:10001\",\n",
    "    runtime_env={\n",
    "        \"pip\": train_dependencies\n",
    "    }\n",
    ")"
   ]
  },
  {
   "cell_type": "markdown",
   "id": "c8765ae8",
   "metadata": {},
   "source": [
    "## Fine-tuning LLM\n",
    "\n",
    "Fine-tuning a Large Language Model (LLM) refers to the process of taking a pre-trained language model, like Falcon 7B or its variants, and further training it on a specific dataset or task to make it more specialized and useful for that particular task. This process is commonly used in natural language processing (NLP) to adapt a general-purpose language model to specific applications.\n",
    "\n",
    "Here are the key steps involved in fine-tuning a LLM:\n",
    "\n",
    "1. **Pre-trained Model**: Start with a pre-trained LLM that has been trained on a large corpus of text data. These models are typically trained on a massive scale and have learned a wide range of language patterns and knowledge.\n",
    "\n",
    "2. **Task Definition**: Define the specific NLP task or application you want to use the model for. This could be sentiment analysis, text classification, language translation, question answering, etc.\n",
    "\n",
    "3. **Data Preparation**: Collect or create a dataset that is relevant to your task. This dataset should include labeled examples for supervised tasks (e.g., pairs of input and corresponding output for translation) or unstructured text data for tasks like language modeling or text generation.\n",
    "\n",
    "4. **Fine-Tuning Process**:\n",
    "   - Initialize the pre-trained LLM with its weights and parameters.\n",
    "   - Train the model on your task-specific dataset.\n",
    "   - During fine-tuning, the model adjusts its weights based on the new dataset while retaining much of the knowledge it gained during pre-training.\n",
    "   - The fine-tuning process typically involves multiple training epochs, and you can monitor performance on a validation dataset to determine when to stop training.\n",
    "\n",
    "5. **Evaluation**: After fine-tuning, assess the model's performance on a separate evaluation dataset. This helps you gauge how well the model has adapted to the specific task.\n",
    "\n",
    "Fine-tuning allows you to leverage the capabilities of large pre-trained models and transfer their general language understanding to specific tasks, saving significant time and resources compared to training a model from scratch. It's a common practice in NLP to achieve state-of-the-art results on various tasks and domains."
   ]
  },
  {
   "cell_type": "markdown",
   "id": "169b772c",
   "metadata": {},
   "source": [
    "### Testing general chat model without specific task fine-tuning"
   ]
  },
  {
   "cell_type": "markdown",
   "id": "1b324ad0",
   "metadata": {},
   "source": [
    "Pre-trained models are good to generate text but not for chat. In this first test we are going to utilize [Falcon-7B-Instruct](https://huggingface.co/tiiuae/falcon-7b-instruct), a fine-tuned model from Falcon-7B but with a [general dataset](https://huggingface.co/datasets/tiiuae/falcon-refinedweb)."
   ]
  },
  {
   "cell_type": "code",
   "execution_count": 32,
   "id": "52366efe",
   "metadata": {},
   "outputs": [],
   "source": [
    "from ray import serve\n",
    "import pandas as pd\n",
    "from starlette.requests import Request"
   ]
  },
  {
   "cell_type": "code",
   "execution_count": 33,
   "id": "7e1fdbd0",
   "metadata": {},
   "outputs": [],
   "source": [
    "@serve.deployment(ray_actor_options={\"num_gpus\": 1})\n",
    "class PredictDeployment:\n",
    "    def __init__(self, model_id: str):\n",
    "        from transformers import AutoModelForCausalLM, AutoTokenizer, GenerationConfig\n",
    "        import torch\n",
    "        \n",
    "        self.model = AutoModelForCausalLM.from_pretrained(\n",
    "            model_id,\n",
    "            trust_remote_code=True,\n",
    "            torch_dtype=torch.float16,\n",
    "            low_cpu_mem_usage=True,\n",
    "        ).cuda()\n",
    "        \n",
    "        self.tokenizer = AutoTokenizer.from_pretrained(model_id)\n",
    "\n",
    "        self.config = GenerationConfig(\n",
    "            temperature=0.7,\n",
    "            top_p=0.9,\n",
    "            num_beams=4,\n",
    "            include_prompt_in_result=False,\n",
    "        )\n",
    "\n",
    "    def generate(self, prompt, params):\n",
    "        inputs = self.tokenizer(prompt, return_tensors=\"pt\")\n",
    "        input_ids = inputs.input_ids.to(self.model.device)\n",
    "        self.config.temperature = params[\"temperature\"]\n",
    "        self.config.top_p = params[\"top_p\"]\n",
    "        self.config.num_beams = params[\"num_beams\"]\n",
    "\n",
    "        generation_output = self.model.generate(\n",
    "            input_ids,\n",
    "            generation_config=self.config,\n",
    "            max_new_tokens=params['max_tokens'],\n",
    "            return_dict_in_generate=True,\n",
    "            output_scores=False\n",
    "        )\n",
    "        \n",
    "        answer=[]\n",
    "        for seq in generation_output.sequences:\n",
    "            output = self.tokenizer.decode(seq, skip_special_tokens=True)\n",
    "            answer.append(output.split(\"### Answer:\")[-1].strip())\n",
    "        \n",
    "        return answer[0]\n",
    "\n",
    "    async def __call__(self, http_request: Request) -> str:\n",
    "        json_request: str = await http_request.json()\n",
    "        prompt = json_request[\"prompt\"]\n",
    "        params = json_request[\"params\"]\n",
    "        return self.generate(prompt, params)"
   ]
  },
  {
   "cell_type": "code",
   "execution_count": 34,
   "id": "285dd4b3",
   "metadata": {
    "scrolled": false
   },
   "outputs": [
    {
     "data": {
      "text/plain": [
       "<ray.serve._private.client.ServeControllerClient at 0x7fdc46c02c10>"
      ]
     },
     "execution_count": 34,
     "metadata": {},
     "output_type": "execute_result"
    }
   ],
   "source": [
    "serve.start(detached=True)"
   ]
  },
  {
   "cell_type": "code",
   "execution_count": 35,
   "id": "2e50e42f",
   "metadata": {},
   "outputs": [
    {
     "name": "stderr",
     "output_type": "stream",
     "text": [
      "The new client HTTP config differs from the existing one in the following fields: ['location']. The new HTTP config is ignored.\n",
      "2023-09-14 18:32:31,572\tINFO router.py:853 -- Using PowerOfTwoChoicesReplicaScheduler.\n",
      "2023-09-14 18:32:31,579\tINFO router.py:329 -- Got updated replicas for deployment default_PredictDeployment: {'default_PredictDeployment#FAmoBJ'}.\n"
     ]
    },
    {
     "data": {
      "text/plain": [
       "'http://127.0.0.1:8000/'"
      ]
     },
     "execution_count": 35,
     "metadata": {},
     "output_type": "execute_result"
    }
   ],
   "source": [
    "serve.run(PredictDeployment.bind(model_id=\"tiiuae/falcon-7b\"))\n",
    "serve.get_deployment(\"default_PredictDeployment\").url"
   ]
  },
  {
   "cell_type": "markdown",
   "id": "283fbec5",
   "metadata": {},
   "source": [
    "Open a terminal and test the LLM:\n",
    "\n",
    "`kubectl port-forward -n ray-cluster-train --address 0.0.0.0 svc/ray-cluster-train-kuberay-head-svc 8000:8000`\n",
    "\n",
    "```bash\n",
    "curl -X POST -H \"Content-Type: application/json\" -d '{\n",
    "    \"prompt\": \"Why do I need an emergency fund if I already have investments?\",\n",
    "    \"params\": {\n",
    "        \"temperature\": 0.7,\n",
    "        \"top_p\": 0.9,\n",
    "        \"max_tokens\": 256,\n",
    "        \"num_beams\": 4\n",
    "    }\n",
    "}' http://127.0.0.1:8000/\n",
    "\n",
    "```\n",
    "\n",
    "- **Question**: \"Why do I need an emergency fund if I already have investments?\"\n",
    "- **Answer**: \"You need an emergency fund because you don’t know when you’ll need it, and you don’t know how much you’ll need.\""
   ]
  },
  {
   "cell_type": "code",
   "execution_count": 36,
   "id": "0b3410fb",
   "metadata": {},
   "outputs": [
    {
     "name": "stderr",
     "output_type": "stream",
     "text": [
      "2023-09-14 18:32:31,782\tINFO router.py:329 -- Got updated replicas for deployment default_PredictDeployment: set().\n"
     ]
    }
   ],
   "source": [
    "serve.delete(\"default\")"
   ]
  },
  {
   "cell_type": "code",
   "execution_count": 37,
   "id": "f9dd2872",
   "metadata": {},
   "outputs": [],
   "source": [
    "serve.shutdown()"
   ]
  },
  {
   "cell_type": "markdown",
   "id": "e26cc5cf",
   "metadata": {},
   "source": [
    "## Fine-tuning model with LoRA and specific dataset\n",
    "\n",
    "Fine-Tuning empowers us to harness the capabilities of pre-trained foundational models and customize them to suit specific tasks or domains. Through the training of the model using data specific to the domain, we can customize it to excel in precisely defined tasks.\n",
    "\n",
    "This procedure can demand significant resources and incur substantial costs, given that we will be altering all the millions of parameters during the training process. Fine-tuning the model necessitates a substantial amount of training data, extensive infrastructure, and considerable effort. In the course of fully fine-tuning Large Language Models (LLMs), there exists a risk of experiencing catastrophic forgetting, which entails the loss of previously acquired knowledge from the initial pretraining phase.\n",
    "\n",
    "Numerous methodologies, such as Parameter Efficient Fine Tuning (PEFT), offer a means to conduct fine-tuning in a modular fashion, optimizing resource utilization and cost-effectiveness. PEFT serves as a fine-tuning technique crafted to minimize the demand for extensive resources and cost outlays. It emerges as an excellent choice when confronting domain-specific tasks that call for model adaptation. Through the employment of PEFT, we can strike a delicate balance between preserving valuable knowledge from the pre-trained model and efficiently adapting it to the target task while reducing the number of parameters. Several approaches enable parameter-efficient fine-tuning, with Low Rank Parameter (LoRA) and QLoRA being the most widely employed and effective methods.\n",
    "\n",
    "![LoRA and QLoRA](./fine-tuning-methods.png)"
   ]
  },
  {
   "cell_type": "markdown",
   "id": "d80ea16f",
   "metadata": {},
   "source": [
    "#### Checking dataset"
   ]
  },
  {
   "cell_type": "code",
   "execution_count": 38,
   "id": "6545b40b",
   "metadata": {},
   "outputs": [],
   "source": [
    "import pandas as pd\n",
    "from datasets import load_dataset\n",
    "from datasets import Dataset, DatasetDict"
   ]
  },
  {
   "cell_type": "code",
   "execution_count": 39,
   "id": "bbb3c56a",
   "metadata": {},
   "outputs": [
    {
     "data": {
      "text/html": [
       "<div>\n",
       "<style scoped>\n",
       "    .dataframe tbody tr th:only-of-type {\n",
       "        vertical-align: middle;\n",
       "    }\n",
       "\n",
       "    .dataframe tbody tr th {\n",
       "        vertical-align: top;\n",
       "    }\n",
       "\n",
       "    .dataframe thead th {\n",
       "        text-align: right;\n",
       "    }\n",
       "</style>\n",
       "<table border=\"1\" class=\"dataframe\">\n",
       "  <thead>\n",
       "    <tr style=\"text-align: right;\">\n",
       "      <th></th>\n",
       "      <th>output</th>\n",
       "      <th>input</th>\n",
       "      <th>instruction</th>\n",
       "      <th>text</th>\n",
       "    </tr>\n",
       "  </thead>\n",
       "  <tbody>\n",
       "    <tr>\n",
       "      <th>0</th>\n",
       "      <td>The car deal makes money 3 ways. If you pay in...</td>\n",
       "      <td></td>\n",
       "      <td>For a car, what scams can be plotted with 0% f...</td>\n",
       "      <td></td>\n",
       "    </tr>\n",
       "    <tr>\n",
       "      <th>1</th>\n",
       "      <td>That is kind of the point, one of the hopes is...</td>\n",
       "      <td></td>\n",
       "      <td>Why does it matter if a Central Bank has a neg...</td>\n",
       "      <td></td>\n",
       "    </tr>\n",
       "    <tr>\n",
       "      <th>2</th>\n",
       "      <td>Pay off your debt.  As you witnessed, no \"inve...</td>\n",
       "      <td></td>\n",
       "      <td>Where should I be investing my money?</td>\n",
       "      <td></td>\n",
       "    </tr>\n",
       "    <tr>\n",
       "      <th>3</th>\n",
       "      <td>Equity options, at least those traded in the A...</td>\n",
       "      <td></td>\n",
       "      <td>Specifically when do options expire?</td>\n",
       "      <td></td>\n",
       "    </tr>\n",
       "    <tr>\n",
       "      <th>4</th>\n",
       "      <td>Automatic exercisions can be extremely risky, ...</td>\n",
       "      <td></td>\n",
       "      <td>Negative Balance from Automatic Options Exerci...</td>\n",
       "      <td></td>\n",
       "    </tr>\n",
       "  </tbody>\n",
       "</table>\n",
       "</div>"
      ],
      "text/plain": [
       "                                              output input  \\\n",
       "0  The car deal makes money 3 ways. If you pay in...         \n",
       "1  That is kind of the point, one of the hopes is...         \n",
       "2  Pay off your debt.  As you witnessed, no \"inve...         \n",
       "3  Equity options, at least those traded in the A...         \n",
       "4  Automatic exercisions can be extremely risky, ...         \n",
       "\n",
       "                                         instruction text  \n",
       "0  For a car, what scams can be plotted with 0% f...       \n",
       "1  Why does it matter if a Central Bank has a neg...       \n",
       "2              Where should I be investing my money?       \n",
       "3               Specifically when do options expire?       \n",
       "4  Negative Balance from Automatic Options Exerci...       "
      ]
     },
     "execution_count": 39,
     "metadata": {},
     "output_type": "execute_result"
    }
   ],
   "source": [
    "dataset = load_dataset(dataset_name, split=\"train\")\n",
    "\n",
    "# Convert the dataset to a pandas DataFrame\n",
    "df = pd.DataFrame(dataset)\n",
    "\n",
    "# Display the first few rows of the DataFrame\n",
    "df.head()"
   ]
  },
  {
   "cell_type": "code",
   "execution_count": 40,
   "id": "668d391b",
   "metadata": {},
   "outputs": [
    {
     "data": {
      "text/html": [
       "<div>\n",
       "<style scoped>\n",
       "    .dataframe tbody tr th:only-of-type {\n",
       "        vertical-align: middle;\n",
       "    }\n",
       "\n",
       "    .dataframe tbody tr th {\n",
       "        vertical-align: top;\n",
       "    }\n",
       "\n",
       "    .dataframe thead th {\n",
       "        text-align: right;\n",
       "    }\n",
       "</style>\n",
       "<table border=\"1\" class=\"dataframe\">\n",
       "  <thead>\n",
       "    <tr style=\"text-align: right;\">\n",
       "      <th></th>\n",
       "      <th>Context</th>\n",
       "      <th>Response</th>\n",
       "    </tr>\n",
       "  </thead>\n",
       "  <tbody>\n",
       "    <tr>\n",
       "      <th>0</th>\n",
       "      <td>For a car, what scams can be plotted with 0% f...</td>\n",
       "      <td>The car deal makes money 3 ways. If you pay in...</td>\n",
       "    </tr>\n",
       "    <tr>\n",
       "      <th>1</th>\n",
       "      <td>Why does it matter if a Central Bank has a neg...</td>\n",
       "      <td>That is kind of the point, one of the hopes is...</td>\n",
       "    </tr>\n",
       "    <tr>\n",
       "      <th>2</th>\n",
       "      <td>Where should I be investing my money?</td>\n",
       "      <td>Pay off your debt.  As you witnessed, no \"inve...</td>\n",
       "    </tr>\n",
       "    <tr>\n",
       "      <th>3</th>\n",
       "      <td>Specifically when do options expire?</td>\n",
       "      <td>Equity options, at least those traded in the A...</td>\n",
       "    </tr>\n",
       "    <tr>\n",
       "      <th>4</th>\n",
       "      <td>Negative Balance from Automatic Options Exerci...</td>\n",
       "      <td>Automatic exercisions can be extremely risky, ...</td>\n",
       "    </tr>\n",
       "  </tbody>\n",
       "</table>\n",
       "</div>"
      ],
      "text/plain": [
       "                                             Context  \\\n",
       "0  For a car, what scams can be plotted with 0% f...   \n",
       "1  Why does it matter if a Central Bank has a neg...   \n",
       "2              Where should I be investing my money?   \n",
       "3               Specifically when do options expire?   \n",
       "4  Negative Balance from Automatic Options Exerci...   \n",
       "\n",
       "                                            Response  \n",
       "0  The car deal makes money 3 ways. If you pay in...  \n",
       "1  That is kind of the point, one of the hopes is...  \n",
       "2  Pay off your debt.  As you witnessed, no \"inve...  \n",
       "3  Equity options, at least those traded in the A...  \n",
       "4  Automatic exercisions can be extremely risky, ...  "
      ]
     },
     "execution_count": 40,
     "metadata": {},
     "output_type": "execute_result"
    }
   ],
   "source": [
    "# Rename input and output\n",
    "df.rename(columns={'output': 'Response', 'instruction': 'Context'}, inplace=True)\n",
    "\n",
    "# Drop other columns\n",
    "df.drop(columns=df.columns.difference(['Response', 'Context']), inplace=True)\n",
    "\n",
    "# Reorder\n",
    "df = df[[\"Context\", \"Response\"]]\n",
    "\n",
    "df.head()"
   ]
  },
  {
   "cell_type": "markdown",
   "id": "dbea6850",
   "metadata": {},
   "source": [
    "#### Start fine-tuning with Ray's Job Submission API\n",
    "\n",
    "In your code snippet, you're leveraging Ray's Job Submission API to remotely execute a training job on a Ray cluster. You initialize a JobSubmissionClient by connecting to the head node of the Ray cluster, then define a shell command (ray_training) that carries out several tasks: it removes any existing folder named fm-ops-eks, clones a specific git repository, grants executable permissions to a Python script (train_gptj.py), and then runs the script for training. Finally, you submit this shell command as a job to the Ray cluster using the submit_job method of the JobSubmissionClient.\n",
    "\n",
    "The reason for using Ray's Job Submission API instead of trainer.fit() directly in a Jupyter Notebook is that the latter doesn't allow you to see the logs directly within the notebook interface. Using the Job Submission API gives you more control over job monitoring and log inspection, which is especially useful for debugging and real-time monitoring of training progress."
   ]
  },
  {
   "cell_type": "code",
   "execution_count": 49,
   "id": "381a26d4",
   "metadata": {},
   "outputs": [],
   "source": [
    "# close connection to Ray cluster\n",
    "ray.shutdown()"
   ]
  },
  {
   "cell_type": "code",
   "execution_count": 50,
   "id": "6507c8fc",
   "metadata": {},
   "outputs": [],
   "source": [
    "import boto3\n",
    "from ray.job_submission import JobSubmissionClient"
   ]
  },
  {
   "cell_type": "markdown",
   "id": "9ef9d327",
   "metadata": {},
   "source": [
    "We are going to create a training script for job submission"
   ]
  },
  {
   "cell_type": "code",
   "execution_count": 98,
   "id": "ca73ecee",
   "metadata": {},
   "outputs": [
    {
     "name": "stdout",
     "output_type": "stream",
     "text": [
      "Overwriting train_script.py\n"
     ]
    }
   ],
   "source": [
    "%%writefile train_script.py\n",
    "import os\n",
    "import ray\n",
    "import torch\n",
    "import evaluate\n",
    "import numpy as np\n",
    "import pandas as pd\n",
    "from datasets import load_dataset\n",
    "from datasets import Dataset\n",
    "from ray.data.preprocessors import BatchMapper, Chain\n",
    "from transformers import AutoTokenizer, DataCollatorForLanguageModeling, AutoModelForCausalLM, BitsAndBytesConfig, Trainer, TrainingArguments\n",
    "from ray.train.huggingface import TransformersTrainer\n",
    "from ray.air import RunConfig, ScalingConfig, session\n",
    "from peft import LoraConfig, get_peft_model, prepare_model_for_kbit_training, prepare_model_for_int8_training\n",
    "\n",
    "# GLOBAL VARIABLES DEFINITION, those can be captured as parameters \n",
    "model_name = \"tiiuae/falcon-7b\" # The pre-trained model you are going to utilize\n",
    "dataset_name = \"gbharti/finance-alpaca\" # The dataset we are going to utilize for fine-tuning\n",
    "bucket = \"fm-ops-datasets\" # Where you are going to store your dataset\n",
    "use_gpu = True # Ray cluster requirement\n",
    "num_workers = 11 # Ray cluster requirement\n",
    "cpus_per_worker = 8 # Ray cluster requirement\n",
    "storage_path=f\"s3://{bucket}/checkpoints/\" # Since this example runs with multiple nodes, we need to persist checkpoints and other outputs to some external storage for access after training has completed\n",
    "ray_train_address = \"auto\"\n",
    "os.environ['CUDA_HOME'] = \"/usr/local/cuda/\"  # Adjust this path to your CUDA installation\n",
    "train_dependencies = [\n",
    "    \"awscli\",\n",
    "    \"datasets==2.14.5\",\n",
    "    \"evaluate==0.4.0\",\n",
    "    \"einops==0.6.1\",\n",
    "    \"accelerate==0.20.3\",\n",
    "    \"transformers==4.33.1\",\n",
    "    \"torch==2.0.1\",\n",
    "    \"deepspeed==0.9.3\",\n",
    "    \"peft==0.4.0\",\n",
    "    \"bitsandbytes==0.41.1\",\n",
    "    \"loralib==0.1.2\",\n",
    "    \"xformers==0.0.21\"\n",
    "]\n",
    "\n",
    "# Connecting Ray client with the cluster\n",
    "ray.init(\n",
    "    address=ray_train_address,\n",
    "    runtime_env={\n",
    "        \"pip\": train_dependencies\n",
    "    }\n",
    ")\n",
    "\n",
    "def load_prepare_dataset():\n",
    "    print(\"Loading dataset\")\n",
    "    dataset = load_dataset(dataset_name, split=\"train\")\n",
    "\n",
    "    # Convert the dataset to a pandas DataFrame\n",
    "    df = pd.DataFrame(dataset)\n",
    "    # Rename input and output\n",
    "    df.rename(columns={'output': 'Response', 'instruction': 'Context'}, inplace=True)\n",
    "    # Drop other columns\n",
    "    df.drop(columns=df.columns.difference(['Response', 'Context']), inplace=True)\n",
    "    # Reorder\n",
    "    df = df[[\"Context\", \"Response\"]]\n",
    "    # Display the first few rows of the DataFrame\n",
    "    print(df.head(10))\n",
    "\n",
    "    dataset = Dataset.from_pandas(df)    \n",
    "    dataset_prompts = {}\n",
    "    dataset_prompts['text'] = []\n",
    "\n",
    "    def generate_prompt(data_point):\n",
    "        return f\"\"\"Below is an instruction that describes a task, paired with an input that provides further context. Write a response that appropriately \n",
    "    completes the request.  # noqa: E501\n",
    "    ### Instruction:\n",
    "    {data_point[\"Context\"]}\n",
    "    ### Response:\n",
    "    {data_point[\"Response\"]}\"\"\"\n",
    "\n",
    "        \n",
    "    for data_point in dataset:\n",
    "        prompt = generate_prompt(data_point)\n",
    "        dataset_prompts['text'].append(prompt)\n",
    "\n",
    "    # Transform to Ray dataset format\n",
    "    dataset_prompts_df = pd.DataFrame.from_dict(dataset_prompts)\n",
    "    dataset_ray = ray.data.from_pandas(dataset_prompts_df)\n",
    "\n",
    "    return dataset_ray\n",
    "\n",
    "def prepare_batch_mapper():\n",
    "    tokenizer = AutoTokenizer.from_pretrained(model_name)\n",
    "    tokenizer.pad_token = tokenizer.eos_token\n",
    "\n",
    "    def preprocess_function(batch):\n",
    "        ret = tokenizer(list(batch[\"text\"]), padding=True, truncation=True, return_tensors=\"np\")\n",
    "        return dict(ret)\n",
    "\n",
    "    batch_mapper = BatchMapper(preprocess_function, batch_format=\"pandas\")\n",
    "\n",
    "    return batch_mapper\n",
    "\n",
    "def trainer_init_per_worker(train_dataset, eval_dataset=None, **train_ray_config):\n",
    "    # Use the actual number of CPUs assigned by Ray\n",
    "    os.environ[\"OMP_NUM_THREADS\"] = str(\n",
    "        session.get_trial_resources().bundles[-1].get(\"CPU\", 1)\n",
    "    )\n",
    "\n",
    "    # Enable tf32 for better performance\n",
    "    torch.backends.cuda.matmul.allow_tf32 = True\n",
    "\n",
    "    # Loading model\n",
    "    print(\"Loading model\")\n",
    "    # TODO: QLoRA with DeepSpeed\n",
    "    # bnb_config = BitsAndBytesConfig(\n",
    "    #    load_in_4bit=True,\n",
    "    #    load_4bit_use_double_quant=True,\n",
    "    #    bnb_4bit_quant_type=\"nf4\",\n",
    "    #    bnb_4bit_compute_dtype=torch.bfloat16,\n",
    "    # )\n",
    "\n",
    "    tokenizer = AutoTokenizer.from_pretrained(model_name)\n",
    "    tokenizer.pad_token = tokenizer.eos_token\n",
    "    \n",
    "    model = AutoModelForCausalLM.from_pretrained(\n",
    "        model_name,\n",
    "        # device_map=\"auto\",\n",
    "        trust_remote_code=True,\n",
    "        load_in_8bit=True,\n",
    "        # quantization_config=bnb_config\n",
    "    )\n",
    "    model.config.use_cache = False\n",
    "    \n",
    "    # Configuring LoRA\n",
    "    print(\"Configuring LoRA\")\n",
    "    # model = prepare_model_for_kbit_training(model)\n",
    "    model = prepare_model_for_int8_training(model)\n",
    "    \n",
    "    lora_config = LoraConfig(\n",
    "        r=8,\n",
    "        lora_alpha=16,\n",
    "        target_modules=[\"query_key_value\"],\n",
    "        lora_dropout=0.05,\n",
    "        bias=\"none\",\n",
    "        task_type=\"CAUSAL_LM\"\n",
    "    )\n",
    "\n",
    "    model = get_peft_model(model, lora_config)\n",
    "\n",
    "    # Print trainable parameters\n",
    "    trainable_params = 0\n",
    "    all_param = 0\n",
    "    for _, param in model.named_parameters():\n",
    "        all_param += param.numel()\n",
    "        if param.requires_grad:\n",
    "            trainable_params += param.numel()\n",
    "    print(\n",
    "        f\"Trainable params: {trainable_params} || all params: {all_param} || trainable%: {100 * trainable_params / all_param}\"\n",
    "    )\n",
    "    \n",
    "    # Training config\n",
    "    deepspeed = {\n",
    "        \"fp16\": {\n",
    "            \"enabled\": \"auto\",\n",
    "            \"initial_scale_power\": 8,\n",
    "        },\n",
    "        \"bf16\": {\"enabled\": \"auto\"},\n",
    "        \"optimizer\": {\n",
    "            \"type\": \"AdamW\",\n",
    "            \"params\": {\n",
    "                \"lr\": \"auto\",\n",
    "                \"betas\": \"auto\",\n",
    "                \"eps\": \"auto\",\n",
    "            },\n",
    "        },\n",
    "        \"scheduler\": {\n",
    "            \"type\": \"WarmupLR\",\n",
    "            \"params\": {\n",
    "                \"warmup_min_lr\": \"auto\",\n",
    "                \"warmup_max_lr\": \"auto\",\n",
    "                \"warmup_num_steps\": \"auto\"\n",
    "            }\n",
    "        },\n",
    "        \"zero_optimization\": {\n",
    "            \"stage\": 3,\n",
    "            \"offload_optimizer\": {\n",
    "                \"device\": \"cpu\",\n",
    "                \"pin_memory\": True,\n",
    "            },\n",
    "            \"offload_param\": {\n",
    "                \"device\": \"cpu\",\n",
    "                \"pin_memory\": True,\n",
    "            },\n",
    "            \"overlap_comm\": True,\n",
    "            \"contiguous_gradients\": True,\n",
    "            \"reduce_bucket_size\": \"auto\",\n",
    "            \"stage3_prefetch_bucket_size\": \"auto\",\n",
    "            \"stage3_param_persistence_threshold\": \"auto\",\n",
    "            \"gather_16bit_weights_on_model_save\": True,\n",
    "            \"round_robin_gradients\": True,\n",
    "        },\n",
    "        \"gradient_accumulation_steps\": \"auto\",\n",
    "        \"gradient_clipping\": \"auto\",\n",
    "        \"steps_per_print\": 10,\n",
    "        \"train_batch_size\": \"auto\",\n",
    "        \"train_micro_batch_size_per_gpu\": \"auto\",\n",
    "        \"wall_clock_breakdown\": False,\n",
    "    }\n",
    "\n",
    "    # Preparing training arguments\n",
    "    batch_size = train_ray_config.get(\"batch_size\", 1)\n",
    "    epochs = train_ray_config.get(\"epochs\", 4)\n",
    "    warmup_steps = train_ray_config.get(\"warmup_steps\", 0)\n",
    "    learning_rate = train_ray_config.get(\"learning_rate\", 0.00002)\n",
    "    weight_decay = train_ray_config.get(\"weight_decay\", 0.01)\n",
    "\n",
    "    training_args = TrainingArguments(\n",
    "        output_dir=\"output\",\n",
    "        per_device_train_batch_size=batch_size,\n",
    "        logging_steps=10,\n",
    "        save_strategy=\"steps\",\n",
    "        learning_rate=learning_rate,\n",
    "        weight_decay=weight_decay,\n",
    "        warmup_steps=warmup_steps,\n",
    "        num_train_epochs=epochs,\n",
    "        push_to_hub=False,\n",
    "        disable_tqdm=True,\n",
    "        bf16=False,\n",
    "        fp16=False,\n",
    "        gradient_checkpointing=True,\n",
    "        deepspeed=deepspeed,\n",
    "    )\n",
    "\n",
    "    # Trainer object\n",
    "    trainer = Trainer(\n",
    "        model=model,\n",
    "        args=training_args,\n",
    "        train_dataset=train_dataset,\n",
    "        data_collator=DataCollatorForLanguageModeling(tokenizer, mlm=False),\n",
    "    )\n",
    "    \n",
    "    return trainer\n",
    "\n",
    "# Load and prepare dataset\n",
    "dataset = load_prepare_dataset()\n",
    "batch_mapper = prepare_batch_mapper()\n",
    "\n",
    "trainer = TransformersTrainer(\n",
    "    trainer_init_per_worker=trainer_init_per_worker,\n",
    "    trainer_init_config={\n",
    "        \"batch_size\": 1,\n",
    "        \"epochs\": 4,\n",
    "    },\n",
    "    scaling_config=ScalingConfig(\n",
    "        num_workers=num_workers,\n",
    "        use_gpu=use_gpu,\n",
    "        resources_per_worker={\"GPU\": 1, \"CPU\": cpus_per_worker},\n",
    "    ),\n",
    "    datasets={\"train\": dataset},\n",
    "    preprocessor=batch_mapper,\n",
    "    run_config=RunConfig(storage_path=storage_path),\n",
    ")\n",
    "\n",
    "# Train\n",
    "ft_model = trainer.fit()"
   ]
  },
  {
   "cell_type": "code",
   "execution_count": 99,
   "id": "b1782839",
   "metadata": {},
   "outputs": [],
   "source": [
    "s3_client = boto3.client(\"s3\")\n",
    "s3_client.upload_file(\"./train_script.py\", bucket, \"scripts/train_script.py\")"
   ]
  },
  {
   "cell_type": "code",
   "execution_count": 100,
   "id": "1cd86525",
   "metadata": {},
   "outputs": [
    {
     "data": {
      "text/plain": [
       "'raysubmit_K3eQxShZacM19Jb7'"
      ]
     },
     "execution_count": 100,
     "metadata": {},
     "output_type": "execute_result"
    }
   ],
   "source": [
    "ray_client = JobSubmissionClient(f\"http://{ray_train_address}:8265\")\n",
    "\n",
    "ray_client.submit_job(\n",
    "    # Entrypoint shell command to execute\n",
    "    entrypoint=(\n",
    "        f\"rm -rf train_script.py && aws s3 cp s3://{bucket}/scripts/train_script.py train_script.py || true;\"\n",
    "        \"chmod +x train_script.py && python train_script.py\"\n",
    "    ),\n",
    "    runtime_env={\n",
    "        \"pip\": train_dependencies\n",
    "    }\n",
    ")"
   ]
  },
  {
   "cell_type": "code",
   "execution_count": null,
   "id": "43a6a958",
   "metadata": {},
   "outputs": [],
   "source": []
  }
 ],
 "metadata": {
  "kernelspec": {
   "display_name": "Python 3",
   "language": "python",
   "name": "python3"
  },
  "language_info": {
   "codemirror_mode": {
    "name": "ipython",
    "version": 3
   },
   "file_extension": ".py",
   "mimetype": "text/x-python",
   "name": "python",
   "nbconvert_exporter": "python",
   "pygments_lexer": "ipython3",
   "version": "3.8.8"
  }
 },
 "nbformat": 4,
 "nbformat_minor": 5
}
