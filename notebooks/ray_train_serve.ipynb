{
 "cells": [
  {
   "cell_type": "code",
   "execution_count": null,
   "id": "9b9ed9f7",
   "metadata": {
    "scrolled": true
   },
   "outputs": [],
   "source": [
    "!pip install -U \"ray[air]\""
   ]
  },
  {
   "cell_type": "markdown",
   "id": "ecc90e71",
   "metadata": {},
   "source": [
    "# Training"
   ]
  },
  {
   "cell_type": "code",
   "execution_count": null,
   "id": "17e2154b",
   "metadata": {
    "scrolled": true
   },
   "outputs": [],
   "source": [
    "import boto3\n",
    "import pickle\n",
    "import ray\n",
    "from ray.air.config import RunConfig, ScalingConfig\n",
    "from ray.train.xgboost import XGBoostTrainer"
   ]
  },
  {
   "cell_type": "code",
   "execution_count": null,
   "id": "4341a647",
   "metadata": {},
   "outputs": [],
   "source": [
    "ray.shutdown()\n",
    "ray.init(address=\"ray://ray-cluster-kuberay-head-svc.ray-cluster.svc.cluster.local:10001\")"
   ]
  },
  {
   "cell_type": "code",
   "execution_count": null,
   "id": "82497985",
   "metadata": {},
   "outputs": [],
   "source": [
    "ray.cluster_resources()"
   ]
  },
  {
   "cell_type": "code",
   "execution_count": null,
   "id": "4378f805",
   "metadata": {},
   "outputs": [],
   "source": [
    "bucket = \"fm-ops-datasets\"\n",
    "prefix = \"model\"\n",
    "\n",
    "def prepare_dataset():\n",
    "    dataset = ray.data.read_csv(f\"s3://{bucket}/training/demo.csv\")\n",
    "\n",
    "    train_dataset, valid_dataset = dataset.train_test_split(test_size=0.3)\n",
    "    test_dataset = valid_dataset.drop_columns(cols=[\"Target\"])\n",
    "\n",
    "    return train_dataset, valid_dataset, test_dataset"
   ]
  },
  {
   "cell_type": "code",
   "execution_count": null,
   "id": "28a10fbe",
   "metadata": {},
   "outputs": [],
   "source": [
    "train_dataset, valid_dataset, test_dataset = prepare_dataset()"
   ]
  },
  {
   "cell_type": "code",
   "execution_count": null,
   "id": "e4758a7d",
   "metadata": {},
   "outputs": [],
   "source": [
    "trainer = XGBoostTrainer(\n",
    "    scaling_config=ScalingConfig(\n",
    "        num_workers=2,\n",
    "        use_gpu=False,\n",
    "        _max_cpu_fraction_per_node=0.9,\n",
    "    ),\n",
    "    run_config=RunConfig(\n",
    "        name=\"training_demo\", storage_path=f\"s3://{bucket}/{prefix}\"\n",
    "    ),\n",
    "    label_column=\"Target\",\n",
    "    num_boost_round=20,\n",
    "    params={\n",
    "        \"objective\": \"binary:logistic\",\n",
    "        \"eval_metric\": [\"logloss\", \"error\"],\n",
    "    },\n",
    "    datasets={\"train\": train_dataset, \"valid\": valid_dataset},\n",
    ")"
   ]
  },
  {
   "cell_type": "code",
   "execution_count": null,
   "id": "c2642f52",
   "metadata": {},
   "outputs": [],
   "source": [
    "model = trainer.fit()"
   ]
  },
  {
   "cell_type": "code",
   "execution_count": null,
   "id": "a002635d",
   "metadata": {},
   "outputs": [],
   "source": [
    "model.metrics"
   ]
  },
  {
   "cell_type": "code",
   "execution_count": null,
   "id": "dade106f",
   "metadata": {},
   "outputs": [],
   "source": [
    "checkpoint = model.checkpoint"
   ]
  },
  {
   "cell_type": "code",
   "execution_count": null,
   "id": "e09f7539",
   "metadata": {},
   "outputs": [],
   "source": [
    "pickle_obj = pickle.dumps(checkpoint)\n",
    "s3_resource = boto3.resource(\"s3\")\n",
    "s3_resource.Object(bucket, f\"{prefix}/checkpoint.pkl\").put(Body=pickle_obj)"
   ]
  },
  {
   "cell_type": "code",
   "execution_count": null,
   "id": "8c5a6012",
   "metadata": {},
   "outputs": [],
   "source": [
    "pickle_obj = pickle.dumps(model)\n",
    "s3_resource = boto3.resource(\"s3\")\n",
    "s3_resource.Object(bucket, f\"{prefix}/model.pkl\").put(Body=pickle_obj)"
   ]
  },
  {
   "cell_type": "markdown",
   "id": "f7fa3a42",
   "metadata": {},
   "source": [
    "# Serving"
   ]
  },
  {
   "cell_type": "code",
   "execution_count": null,
   "id": "c60f2590",
   "metadata": {},
   "outputs": [],
   "source": [
    "serve.start(detached=True)"
   ]
  },
  {
   "cell_type": "code",
   "execution_count": null,
   "id": "440d8540",
   "metadata": {},
   "outputs": [],
   "source": [
    "s3 = boto3.client(\"s3\", region_name=\"us-east-1\")\n",
    "bucket = \"fm-ops-datasets\"\n",
    "model_prefix = \"model\""
   ]
  },
  {
   "cell_type": "markdown",
   "id": "0fc33563",
   "metadata": {},
   "source": [
    "## From checkpoint"
   ]
  },
  {
   "cell_type": "code",
   "execution_count": null,
   "id": "871c0c81",
   "metadata": {},
   "outputs": [],
   "source": [
    "import boto3\n",
    "import pickle\n",
    "from ray.train.xgboost import XGBoostPredictor\n",
    "from ray import serve\n",
    "from ray.serve import PredictorDeployment\n",
    "from ray.serve.http_adapters import pandas_read_json"
   ]
  },
  {
   "cell_type": "code",
   "execution_count": null,
   "id": "bd429e70",
   "metadata": {},
   "outputs": [],
   "source": [
    "response = s3.get_object(Bucket=bucket, Key=f\"{model_prefix}/checkpoint.pkl\")\n",
    "pickle_data = response[\"Body\"].read()\n",
    "model_checkpoint = pickle.loads(pickle_data)"
   ]
  },
  {
   "cell_type": "code",
   "execution_count": null,
   "id": "b8493c94",
   "metadata": {},
   "outputs": [],
   "source": [
    "model_checkpoint"
   ]
  },
  {
   "cell_type": "code",
   "execution_count": null,
   "id": "d45119a7",
   "metadata": {},
   "outputs": [],
   "source": [
    "serve.run(\n",
    "    PredictorDeployment.options(name=\"XGBoostService\").bind(\n",
    "        XGBoostPredictor, model_checkpoint, http_adapter=pandas_read_json\n",
    "    )\n",
    ")"
   ]
  },
  {
   "cell_type": "markdown",
   "id": "7834679d",
   "metadata": {},
   "source": [
    "## From model"
   ]
  },
  {
   "cell_type": "code",
   "execution_count": null,
   "id": "7eaa804e",
   "metadata": {},
   "outputs": [],
   "source": [
    "import pickle\n",
    "import ray\n",
    "from ray import serve\n",
    "import boto3"
   ]
  },
  {
   "cell_type": "code",
   "execution_count": null,
   "id": "2eeedd88",
   "metadata": {},
   "outputs": [],
   "source": [
    "@serve.deployment(num_replicas=2, route_prefix=\"/predict\")\n",
    "class XGB:\n",
    "    def __init__(self, model):\n",
    "        self.model = model\n",
    "\n",
    "    async def __call__(self, starlette_request):\n",
    "        payload = await starlette_request.json()\n",
    "        print(\"Worker: received starlette request with data\", payload)\n",
    "\n",
    "        input_vector = [\n",
    "            payload[\"Pregnancies\"],\n",
    "            payload[\"Glucose\"],\n",
    "            payload[\"Blood Pressure\"],\n",
    "            payload[\"Skin Thickness\"],\n",
    "            payload[\"Insulin\"],\n",
    "            payload[\"BMI\"],\n",
    "            payload[\"DiabetesPedigree\"],\n",
    "            payload[\"Age\"],\n",
    "        ]\n",
    "        prediction = self.model.predict([input_vector])[0]\n",
    "        return {\"result\": prediction}"
   ]
  },
  {
   "cell_type": "code",
   "execution_count": null,
   "id": "d9f9bb36",
   "metadata": {},
   "outputs": [],
   "source": [
    "serve.run(XGB.bind(model))"
   ]
  },
  {
   "cell_type": "markdown",
   "id": "97fa828b",
   "metadata": {},
   "source": [
    "# Predict"
   ]
  },
  {
   "cell_type": "code",
   "execution_count": null,
   "id": "a7717101",
   "metadata": {},
   "outputs": [],
   "source": [
    "serve.list_deployments()"
   ]
  },
  {
   "cell_type": "code",
   "execution_count": null,
   "id": "bf7ee3f4",
   "metadata": {},
   "outputs": [],
   "source": [
    "serve.get_deployment(\"default_XGB\").url"
   ]
  },
  {
   "cell_type": "code",
   "execution_count": null,
   "id": "c0b51a8a",
   "metadata": {},
   "outputs": [],
   "source": [
    "import requests\n",
    "import json\n",
    "\n",
    "sample_request_input = {\n",
    "    \"Pregnancies\": 6,\n",
    "    \"Glucose\": 148,\n",
    "    \"BloodPressure\": 72,\n",
    "    \"SkinThickness\": 35,\n",
    "    \"Insulin\": 0,\n",
    "    \"BMI\": 33.6,\n",
    "    \"DiabetesPedigree\": 0.625,\n",
    "    \"Age\": 50,\n",
    "}\n",
    "\n",
    "response = requests.get(\n",
    "    \"http://127.0.0.1:8000/predict\", json=sample_request_input\n",
    ")\n",
    "\n",
    "print(response)"
   ]
  },
  {
   "cell_type": "markdown",
   "id": "43b1f6b3",
   "metadata": {},
   "source": [
    "# Cleanup"
   ]
  },
  {
   "cell_type": "code",
   "execution_count": null,
   "id": "d750aee1",
   "metadata": {},
   "outputs": [],
   "source": [
    "serve.delete(\"default\")"
   ]
  },
  {
   "cell_type": "code",
   "execution_count": null,
   "id": "f719e5c0",
   "metadata": {},
   "outputs": [],
   "source": [
    "serve.shutdown()"
   ]
  },
  {
   "cell_type": "code",
   "execution_count": null,
   "id": "25b5b18a",
   "metadata": {},
   "outputs": [],
   "source": [
    "ray.shutdown()"
   ]
  }
 ],
 "metadata": {
  "kernelspec": {
   "display_name": "Python 3",
   "language": "python",
   "name": "python3"
  },
  "language_info": {
   "codemirror_mode": {
    "name": "ipython",
    "version": 3
   },
   "file_extension": ".py",
   "mimetype": "text/x-python",
   "name": "python",
   "nbconvert_exporter": "python",
   "pygments_lexer": "ipython3",
   "version": "3.8.8"
  }
 },
 "nbformat": 4,
 "nbformat_minor": 5
}
