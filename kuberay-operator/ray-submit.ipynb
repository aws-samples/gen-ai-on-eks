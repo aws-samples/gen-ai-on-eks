{
 "cells": [
  {
   "cell_type": "code",
   "execution_count": null,
   "metadata": {},
   "outputs": [],
   "source": [
    "! pip install \"ray[default]\"\n",
    "! pip install \"ray[air]\"\n",
    "! pip install ray\n",
    "! pip install ipykernel\n",
    "! python -m ipykernel install --user"
   ]
  },
  {
   "cell_type": "code",
   "execution_count": null,
   "metadata": {},
   "outputs": [],
   "source": [
    "from ray.job_submission import JobSubmissionClient\n",
    "\n",
    "client = JobSubmissionClient(\"http://ray-cluster-kuberay-head-svc.kuberay-operator.svc.cluster.local:8265\")\n",
    "\n",
    "kick_off_xgboost_benchmark = (\n",
    "    # Clone ray. If ray is already present, don't clone again.\n",
    "    \"git clone https://github.com/ray-project/ray || true;\"\n",
    "    # Run the benchmark.\n",
    "    \" python ray/release/air_tests/air_benchmarks/workloads/xgboost_benchmark.py\"\n",
    "    \" --size 100G --disable-check\"\n",
    ")\n",
    "\n",
    "\n",
    "submission_id = client.submit_job(\n",
    "    entrypoint=kick_off_xgboost_benchmark,\n",
    ")\n",
    "\n",
    "print(\"Use the following command to follow this Job's logs:\")\n",
    "print(f\"ray job logs '{submission_id}' --follow\")"
   ]
  }
 ],
 "metadata": {
  "language_info": {
   "name": "python"
  },
  "orig_nbformat": 4
 },
 "nbformat": 4,
 "nbformat_minor": 2
}
